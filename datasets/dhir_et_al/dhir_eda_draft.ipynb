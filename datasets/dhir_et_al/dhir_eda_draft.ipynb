{
 "cells": [
  {
   "cell_type": "code",
   "execution_count": 1,
   "id": "a578b0c2-7727-4c09-9bcc-88a1d346d95c",
   "metadata": {},
   "outputs": [],
   "source": [
    "import pandas as pd"
   ]
  },
  {
   "cell_type": "code",
   "execution_count": 2,
   "id": "3dc9ded5-0d9b-41fc-9d06-ddb4073e1952",
   "metadata": {},
   "outputs": [],
   "source": [
    "df = pd.read_csv('CoNLL_2020_Online_English.csv')"
   ]
  },
  {
   "cell_type": "code",
   "execution_count": 3,
   "id": "e1b7bd04-f4c2-4997-838d-904e6106b2cc",
   "metadata": {},
   "outputs": [
    {
     "data": {
      "text/html": [
       "<div>\n",
       "<style scoped>\n",
       "    .dataframe tbody tr th:only-of-type {\n",
       "        vertical-align: middle;\n",
       "    }\n",
       "\n",
       "    .dataframe tbody tr th {\n",
       "        vertical-align: top;\n",
       "    }\n",
       "\n",
       "    .dataframe thead th {\n",
       "        text-align: right;\n",
       "    }\n",
       "</style>\n",
       "<table border=\"1\" class=\"dataframe\">\n",
       "  <thead>\n",
       "    <tr style=\"text-align: right;\">\n",
       "      <th></th>\n",
       "      <th>key</th>\n",
       "      <th>response_id</th>\n",
       "      <th>response_content</th>\n",
       "      <th>participant_id</th>\n",
       "      <th>sentence_id</th>\n",
       "      <th>sentence_content</th>\n",
       "      <th>diagnosis</th>\n",
       "      <th>keydown</th>\n",
       "      <th>keyup</th>\n",
       "    </tr>\n",
       "  </thead>\n",
       "  <tbody>\n",
       "    <tr>\n",
       "      <th>0</th>\n",
       "      <td>shift</td>\n",
       "      <td>39</td>\n",
       "      <td>Books include Penguin Island, a satire on the ...</td>\n",
       "      <td>11</td>\n",
       "      <td>1</td>\n",
       "      <td>Books include Penguin Island, a satire on the ...</td>\n",
       "      <td>1</td>\n",
       "      <td>80077.6719</td>\n",
       "      <td>80672.2719</td>\n",
       "    </tr>\n",
       "    <tr>\n",
       "      <th>1</th>\n",
       "      <td>b</td>\n",
       "      <td>39</td>\n",
       "      <td>Books include Penguin Island, a satire on the ...</td>\n",
       "      <td>11</td>\n",
       "      <td>1</td>\n",
       "      <td>Books include Penguin Island, a satire on the ...</td>\n",
       "      <td>1</td>\n",
       "      <td>80511.5719</td>\n",
       "      <td>80615.2719</td>\n",
       "    </tr>\n",
       "    <tr>\n",
       "      <th>2</th>\n",
       "      <td>o</td>\n",
       "      <td>39</td>\n",
       "      <td>Books include Penguin Island, a satire on the ...</td>\n",
       "      <td>11</td>\n",
       "      <td>1</td>\n",
       "      <td>Books include Penguin Island, a satire on the ...</td>\n",
       "      <td>1</td>\n",
       "      <td>80800.2719</td>\n",
       "      <td>80861.4719</td>\n",
       "    </tr>\n",
       "    <tr>\n",
       "      <th>3</th>\n",
       "      <td>o</td>\n",
       "      <td>39</td>\n",
       "      <td>Books include Penguin Island, a satire on the ...</td>\n",
       "      <td>11</td>\n",
       "      <td>1</td>\n",
       "      <td>Books include Penguin Island, a satire on the ...</td>\n",
       "      <td>1</td>\n",
       "      <td>80949.9719</td>\n",
       "      <td>81076.3719</td>\n",
       "    </tr>\n",
       "    <tr>\n",
       "      <th>4</th>\n",
       "      <td>s</td>\n",
       "      <td>39</td>\n",
       "      <td>Books include Penguin Island, a satire on the ...</td>\n",
       "      <td>11</td>\n",
       "      <td>1</td>\n",
       "      <td>Books include Penguin Island, a satire on the ...</td>\n",
       "      <td>1</td>\n",
       "      <td>81305.5719</td>\n",
       "      <td>81480.7719</td>\n",
       "    </tr>\n",
       "    <tr>\n",
       "      <th>5</th>\n",
       "      <td>backspace</td>\n",
       "      <td>39</td>\n",
       "      <td>Books include Penguin Island, a satire on the ...</td>\n",
       "      <td>11</td>\n",
       "      <td>1</td>\n",
       "      <td>Books include Penguin Island, a satire on the ...</td>\n",
       "      <td>1</td>\n",
       "      <td>81866.4719</td>\n",
       "      <td>81966.9719</td>\n",
       "    </tr>\n",
       "    <tr>\n",
       "      <th>6</th>\n",
       "      <td>k</td>\n",
       "      <td>39</td>\n",
       "      <td>Books include Penguin Island, a satire on the ...</td>\n",
       "      <td>11</td>\n",
       "      <td>1</td>\n",
       "      <td>Books include Penguin Island, a satire on the ...</td>\n",
       "      <td>1</td>\n",
       "      <td>82326.8719</td>\n",
       "      <td>82427.3719</td>\n",
       "    </tr>\n",
       "    <tr>\n",
       "      <th>7</th>\n",
       "      <td>s</td>\n",
       "      <td>39</td>\n",
       "      <td>Books include Penguin Island, a satire on the ...</td>\n",
       "      <td>11</td>\n",
       "      <td>1</td>\n",
       "      <td>Books include Penguin Island, a satire on the ...</td>\n",
       "      <td>1</td>\n",
       "      <td>82489.8719</td>\n",
       "      <td>82508.1719</td>\n",
       "    </tr>\n",
       "    <tr>\n",
       "      <th>8</th>\n",
       "      <td>s</td>\n",
       "      <td>39</td>\n",
       "      <td>Books include Penguin Island, a satire on the ...</td>\n",
       "      <td>11</td>\n",
       "      <td>1</td>\n",
       "      <td>Books include Penguin Island, a satire on the ...</td>\n",
       "      <td>1</td>\n",
       "      <td>82565.8719</td>\n",
       "      <td>82584.1719</td>\n",
       "    </tr>\n",
       "    <tr>\n",
       "      <th>9</th>\n",
       "      <td></td>\n",
       "      <td>39</td>\n",
       "      <td>Books include Penguin Island, a satire on the ...</td>\n",
       "      <td>11</td>\n",
       "      <td>1</td>\n",
       "      <td>Books include Penguin Island, a satire on the ...</td>\n",
       "      <td>1</td>\n",
       "      <td>82654.0719</td>\n",
       "      <td>82780.7719</td>\n",
       "    </tr>\n",
       "  </tbody>\n",
       "</table>\n",
       "</div>"
      ],
      "text/plain": [
       "         key  response_id                                   response_content  \\\n",
       "0      shift           39  Books include Penguin Island, a satire on the ...   \n",
       "1          b           39  Books include Penguin Island, a satire on the ...   \n",
       "2          o           39  Books include Penguin Island, a satire on the ...   \n",
       "3          o           39  Books include Penguin Island, a satire on the ...   \n",
       "4          s           39  Books include Penguin Island, a satire on the ...   \n",
       "5  backspace           39  Books include Penguin Island, a satire on the ...   \n",
       "6          k           39  Books include Penguin Island, a satire on the ...   \n",
       "7          s           39  Books include Penguin Island, a satire on the ...   \n",
       "8          s           39  Books include Penguin Island, a satire on the ...   \n",
       "9                      39  Books include Penguin Island, a satire on the ...   \n",
       "\n",
       "   participant_id  sentence_id  \\\n",
       "0              11            1   \n",
       "1              11            1   \n",
       "2              11            1   \n",
       "3              11            1   \n",
       "4              11            1   \n",
       "5              11            1   \n",
       "6              11            1   \n",
       "7              11            1   \n",
       "8              11            1   \n",
       "9              11            1   \n",
       "\n",
       "                                    sentence_content  diagnosis     keydown  \\\n",
       "0  Books include Penguin Island, a satire on the ...          1  80077.6719   \n",
       "1  Books include Penguin Island, a satire on the ...          1  80511.5719   \n",
       "2  Books include Penguin Island, a satire on the ...          1  80800.2719   \n",
       "3  Books include Penguin Island, a satire on the ...          1  80949.9719   \n",
       "4  Books include Penguin Island, a satire on the ...          1  81305.5719   \n",
       "5  Books include Penguin Island, a satire on the ...          1  81866.4719   \n",
       "6  Books include Penguin Island, a satire on the ...          1  82326.8719   \n",
       "7  Books include Penguin Island, a satire on the ...          1  82489.8719   \n",
       "8  Books include Penguin Island, a satire on the ...          1  82565.8719   \n",
       "9  Books include Penguin Island, a satire on the ...          1  82654.0719   \n",
       "\n",
       "        keyup  \n",
       "0  80672.2719  \n",
       "1  80615.2719  \n",
       "2  80861.4719  \n",
       "3  81076.3719  \n",
       "4  81480.7719  \n",
       "5  81966.9719  \n",
       "6  82427.3719  \n",
       "7  82508.1719  \n",
       "8  82584.1719  \n",
       "9  82780.7719  "
      ]
     },
     "execution_count": 3,
     "metadata": {},
     "output_type": "execute_result"
    }
   ],
   "source": [
    "df.head(10)"
   ]
  },
  {
   "cell_type": "code",
   "execution_count": 4,
   "id": "13c901ce-c292-4e68-a188-736a0bd049bb",
   "metadata": {},
   "outputs": [
    {
     "name": "stdout",
     "output_type": "stream",
     "text": [
      "number of unique people: 232\n"
     ]
    }
   ],
   "source": [
    "print('number of unique people:',len(df['participant_id'].unique()))"
   ]
  },
  {
   "cell_type": "code",
   "execution_count": 5,
   "id": "56b9916a-59f5-4ddc-94a3-0538328f6b3d",
   "metadata": {},
   "outputs": [
    {
     "data": {
      "text/plain": [
       "Split-finger aiming requires the archer to place the index finger above the nocked arrow, while the middle and ring fingers are both placed below    37578\n",
       "They fought a thirty years war on the side of the Lamtuna Arabized Berbers who claimed Himyarite ancestry from the early Islamic invasions           36084\n",
       "Although early behavioural or cognitive intervention can help children gain self-care, social, and communication skills, their is no known cure      35898\n",
       "Generally considered a part of Central Asia, it is sometimes ascribed to a regional bloc in either the Middle East or South Asia                     34557\n",
       "As of 2004, nearly 50% of Americans who were enrolled in employer health insurance plans were covered for acupuncture treatments                     33380\n",
       "Over three million cattle are residents of the province at one time or another, and Alberta beef has a healthy worldwide market                      32155\n",
       "The novel explores the relationship between Patroclus and Achilles from boyhood to the fateful events of the Iliad                                   30551\n",
       "However, religions other than Islam, use a different pronunciation for Allah, although the spelling is the same                                      30015\n",
       "Lincoln's coffin would be encased in concrete several feet thick, and surrounded by a cage, and buried beneath a rock slab                           29896\n",
       "However, there is no evidence that those tattoos were used as acupuncture points or if they were just decorative in nature                           29383\n",
       "The w-shaped glyph above the second consonant that it geminates, is in fact the beginning of a small letter                                          27709\n",
       "The Franks alliance was important exactly because of their renown hostility towards the Byzantine                                                    24907\n",
       "The Korean men have not fared so well in Olympic competition but still produce good results                                                          23010\n",
       "He is buried in Egypt, Aswan at the Mausoleum of Aga Khan                                                                                            16523\n",
       "Books include Penguin Island, a satire on the Dreyfus affair                                                                                         16269\n",
       "Name: sentence_content, dtype: int64"
      ]
     },
     "execution_count": 5,
     "metadata": {},
     "output_type": "execute_result"
    }
   ],
   "source": [
    "df['sentence_content'].value_counts()"
   ]
  },
  {
   "cell_type": "code",
   "execution_count": 6,
   "id": "82de0fbd-cecc-4d1c-9561-dd20e4309c56",
   "metadata": {},
   "outputs": [
    {
     "data": {
      "text/plain": [
       "Over three million cattle are residents of the province at one time or another, and Alberta beef has a healthy worldwide market                      20581\n",
       "Split-finger aiming requires the archer to place the index finger above the nocked arrow, while the middle and ring fingers are both placed below    19431\n",
       "As of 2004, nearly 50% of Americans who were enrolled in employer health insurance plans were covered for acupuncture treatments                     18103\n",
       "Generally considered a part of Central Asia, it is sometimes ascribed to a regional bloc in either the Middle East or South Asia                     18020\n",
       "They fought a thirty years war on the side of the Lamtuna Arabized Berbers who claimed Himyarite ancestry from the early Islamic invasions           17993\n",
       "                                                                                                                                                     ...  \n",
       "Lincoln                                                                                                                                                  9\n",
       "the                                                                                                                                                      6\n",
       "no                                                                                                                                                       4\n",
       "t                                                                                                                                                        4\n",
       "g                                                                                                                                                        3\n",
       "Name: response_content, Length: 1226, dtype: int64"
      ]
     },
     "execution_count": 6,
     "metadata": {},
     "output_type": "execute_result"
    }
   ],
   "source": [
    "df['response_content'].value_counts()"
   ]
  },
  {
   "cell_type": "code",
   "execution_count": 7,
   "id": "2a7f3d9f-7939-4003-bb76-016273d7ddfa",
   "metadata": {},
   "outputs": [
    {
     "data": {
      "text/plain": [
       "array(['shift', 'b', 'o', 's', 'backspace', 'k', ' ', 'i', 'n', 'c', 'l',\n",
       "       'u', 'd', 'e', 'p', 'g', 'a', ',', 't', 'r', 'h', 'y', 'w', 'f',\n",
       "       '.', 'enter', 'v', 'm', 'x', 'z', '-', \"'\", '2', '0', '4', '5',\n",
       "       '%', 'j', '\\n', '=', 'unidentified', 'q', '/', 'arrowleft',\n",
       "       'arrowright', '[', 'arrowdown', ';', ']', '\\\\', 'capslock', '\"',\n",
       "       'delete', 'spacebar', ':', '3', '{', 'numlock', 'insert', 'f11',\n",
       "       'meta', 'control', 'arrowup', 'mediaprevioustrack', 'alt', '8',\n",
       "       'end', ')', 'pagedown', '_', '9', 'tab', '&', 'f16', 'process',\n",
       "       'home', '6', '$', '!', '^', '|', 'contextmenu'], dtype=object)"
      ]
     },
     "execution_count": 7,
     "metadata": {},
     "output_type": "execute_result"
    }
   ],
   "source": [
    "df['key'].unique()"
   ]
  },
  {
   "cell_type": "code",
   "execution_count": null,
   "id": "1d3228ac-a4a3-4c1b-b6c5-8bd1a14707c0",
   "metadata": {},
   "outputs": [],
   "source": []
  }
 ],
 "metadata": {
  "kernelspec": {
   "display_name": "Python 3 (ipykernel)",
   "language": "python",
   "name": "python3"
  },
  "language_info": {
   "codemirror_mode": {
    "name": "ipython",
    "version": 3
   },
   "file_extension": ".py",
   "mimetype": "text/x-python",
   "name": "python",
   "nbconvert_exporter": "python",
   "pygments_lexer": "ipython3",
   "version": "3.9.12"
  }
 },
 "nbformat": 4,
 "nbformat_minor": 5
}
